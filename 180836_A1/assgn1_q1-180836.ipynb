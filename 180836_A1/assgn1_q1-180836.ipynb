{
  "nbformat": 4,
  "nbformat_minor": 0,
  "metadata": {
    "colab": {
      "name": "EE604A1Q1.ipynb",
      "provenance": [],
      "collapsed_sections": []
    },
    "kernelspec": {
      "name": "python3",
      "display_name": "Python 3"
    },
    "language_info": {
      "name": "python"
    }
  },
  "cells": [
    {
      "cell_type": "code",
      "metadata": {
        "id": "9tnG6yCSOgu1"
      },
      "source": [
        "# Copyright 2021 IITK EE604A Image Processing. All Rights Reserved.\n",
        "# \n",
        "# Licensed under the MIT License. Use and/or modification of this code outside of EE604 must reference:\n",
        "#\n",
        "# © IITK EE604A Image Processing \n",
        "#\n",
        "# Author: Dheeraj Bharti, Chiranjeev Prachand and Prof K. S. Venkatesh, Department of Electrical Engineering, IIT Kanpur"
      ],
      "execution_count": null,
      "outputs": []
    },
    {
      "cell_type": "markdown",
      "metadata": {
        "id": "IWE2Sh2sOm2-"
      },
      "source": [
        "Question 1.\n",
        "\n",
        "In this question, we create an image by creating a matrix using numpy module. There are two subparts, one creates a binary image consisting of only 2 levels. and second a coloured image.\n"
      ]
    },
    {
      "cell_type": "code",
      "metadata": {
        "id": "MBohJEtcOn3d"
      },
      "source": [
        "import numpy as np\n",
        "import cv2\n",
        "from google.colab.patches import cv2_imshow"
      ],
      "execution_count": null,
      "outputs": []
    },
    {
      "cell_type": "code",
      "metadata": {
        "id": "FaEESBZXOxH7"
      },
      "source": [
        "def binary_shapes():\n",
        "  '''\n",
        "  Write a program to generate a binary image of 512 x 512 pixels. The image should have a black (pixel value 0) boundary having a width of 40 pixels. \n",
        "  After the black boundary, create a white (pixel value 255) square. Inside this square, create a black circle having the diameter equal to the length \n",
        "  of the square. Lastly create a white equilateral triangle inscribed within the circle.\n",
        "\n",
        "  Inputs:\n",
        "  no inputs\n",
        "\n",
        "  Outputs: \n",
        "  out_img - numpy array (of dtype np.uint8) containing the output image.\n",
        "  \n",
        "  Allowed external package:\n",
        "    + You cannot use cv2.circle to draw circle and cv2.fillPoly() to draw triangle . \n",
        "    + You are not allowed to use any other external package.\n",
        "\n",
        "  '''\n",
        "\n",
        "  out_img = np.zeros((512, 512), dtype=np.uint8) # Intialise with blank display\n",
        "    \n",
        "  #############################\n",
        "  # Start your code from here #\n",
        "  #############################\n",
        "\n",
        "  pts = np.array([[256,40], [256+216*np.cos(30*np.pi/180), 40+216*(1+np.cos(60*np.pi/180))], [256-216*np.cos(30*np.pi/180), 40+216*(1+np.cos(60*np.pi/180))]], np.int32)\n",
        "  # pts = np.array([[40,256], [40+216*(1+np.cos(60*np.pi/180)),256+216*np.cos(30*np.pi/180)], [40+216*(1+np.cos(60*np.pi/180)),256-216*np.cos(30*np.pi/180)]], np.int32)\n",
        "  def fndarea(pts):\n",
        "    return np.abs(pts[0,0]*(pts[1,1]-pts[2,1]) + pts[1,0]*(pts[2,1]-pts[0,1]) + pts[2,0]*(pts[0,1]-pts[1,1]))/2\n",
        "  farea = fndarea(pts)\n",
        "\n",
        "  for i in range(40, 473):\n",
        "    for j in range(40, 473):\n",
        "      out_img[i,j] = 255\n",
        "      if np.sqrt((i-256)**2 + (j-256)**2) <= 216:\n",
        "        out_img[i,j] = 0\n",
        "      a1 = fndarea(np.array([[i,j], pts[0], pts[1]]))\n",
        "      a2 = fndarea(np.array([[i,j], pts[1], pts[2]]))\n",
        "      a3 = fndarea(np.array([[i,j], pts[2], pts[0]]))\n",
        "      if abs(a1+a2+a3-farea) == 0:\n",
        "        out_img[i,j] = 255 \n",
        "    \n",
        "  #############################\n",
        "  # End your code here ########\n",
        "  #############################    \n",
        "    \n",
        "  return np.uint8(out_img)"
      ],
      "execution_count": null,
      "outputs": []
    },
    {
      "cell_type": "code",
      "metadata": {
        "colab": {
          "base_uri": "https://localhost:8080/",
          "height": 529
        },
        "id": "78sZ3mGSO6TY",
        "outputId": "df756430-356f-49b7-82a9-b6ed58277f05"
      },
      "source": [
        "img = binary_shapes()\n",
        "cv2_imshow(img)"
      ],
      "execution_count": null,
      "outputs": [
        {
          "output_type": "display_data",
          "data": {
            "image/png": "[encoded data removed]",
            "text/plain": [
              "<PIL.Image.Image image mode=L size=512x512 at 0x7F55AA7F6D90>"
            ]
          },
          "metadata": {}
        }
      ]
    },
    {
      "cell_type": "code",
      "metadata": {
        "id": "GQdCt92fO8wH"
      },
      "source": [
        "def color_shape():\n",
        "  '''\n",
        "  You have to create an image similar to the previous one but instead of binary this image will be coloured one. \n",
        "  An colour image consists of three matrix each for R,G,B channel. The shapes will remain same as the above image but the colour of boundary will be white,\n",
        "  squre should be in blue, cirlce should be in red and the triangle should be green. Create the R,G,B matrices respectively.\n",
        "\n",
        "  Inputs:\n",
        "  no inputs\n",
        "\n",
        "  Outputs: \n",
        "  out_img - numpy array (of dtype np.uint8) containing the output image.\n",
        "\n",
        "  Allowed external package:\n",
        "    + You cannot use cv2.circle to draw circle and cv2.fillPoly() to draw triangle . \n",
        "    + You are not allowed to use any other external package.\n",
        "\n",
        "  '''\n",
        "\n",
        "  r = np.zeros((512, 512), dtype=np.uint8) # Intialise the red channel matrix\n",
        "  g = np.zeros((512, 512), dtype=np.uint8) # Intialise the green channel matrix\n",
        "  b = np.zeros((512, 512), dtype=np.uint8) # Intialise the blue channel matrix\n",
        "\n",
        "  #############################\n",
        "  # Start your code from here #\n",
        "  #############################\n",
        "  \n",
        "  r = 255 + r\n",
        "  g = 255 + g\n",
        "  b = 255 + b\n",
        "    \n",
        "  pts = np.array([[256,40], [256+216*np.cos(30*np.pi/180), 40+216*(1+np.cos(60*np.pi/180))], [256-216*np.cos(30*np.pi/180), 40+216*(1+np.cos(60*np.pi/180))]], np.int32)\n",
        "  # pts = np.array([[40,256], [40+216*(1+np.cos(60*np.pi/180)),256+216*np.cos(30*np.pi/180)], [40+216*(1+np.cos(60*np.pi/180)),256-216*np.cos(30*np.pi/180)]], np.int32)\n",
        "\n",
        "  def fndarea(pts):\n",
        "    return np.abs(pts[0,0]*(pts[1,1]-pts[2,1]) + pts[1,0]*(pts[2,1]-pts[0,1]) + pts[2,0]*(pts[0,1]-pts[1,1]))/2\n",
        "  farea = fndarea(pts)\n",
        "\n",
        "  for i in range(40, 473):\n",
        "    for j in range(40, 473):\n",
        "      b[i,j] = 255\n",
        "      r[i,j] = g[i,j] = 0\n",
        "      if np.sqrt((i-256)**2 + (j-256)**2) <= 216:\n",
        "        r[i,j] = 255\n",
        "        b[i,j] = g[i,j] = 0\n",
        "      a1 = fndarea(np.array([[i,j], pts[0], pts[1]]))\n",
        "      a2 = fndarea(np.array([[i,j], pts[1], pts[2]]))\n",
        "      a3 = fndarea(np.array([[i,j], pts[2], pts[0]]))\n",
        "      if abs(a1+a2+a3-farea) == 0:\n",
        "        g[i,j] = 255\n",
        "        r[i,j] = b[i,j] = 0 \n",
        "\n",
        "  #############################\n",
        "  # End your code here ########\n",
        "  #############################    \n",
        "\n",
        "  out_img_2 = cv2.merge((b,g,r))     #merging the r,g,b channels\n",
        "  return np.uint8(out_img_2)"
      ],
      "execution_count": null,
      "outputs": []
    },
    {
      "cell_type": "code",
      "metadata": {
        "colab": {
          "base_uri": "https://localhost:8080/",
          "height": 529
        },
        "id": "AVz_w62ePCEj",
        "outputId": "b6aaf73e-74ea-4710-d8a1-59291a03f0d5"
      },
      "source": [
        "img_1 = color_shape()\n",
        "cv2_imshow(img_1)"
      ],
      "execution_count": null,
      "outputs": [
        {
          "output_type": "display_data",
          "data": {
            "image/png": "[encoded data removed]",
            "text/plain": [
              "<PIL.Image.Image image mode=RGB size=512x512 at 0x7F55AA723150>"
            ]
          },
          "metadata": {}
        }
      ]
    }
  ]
}