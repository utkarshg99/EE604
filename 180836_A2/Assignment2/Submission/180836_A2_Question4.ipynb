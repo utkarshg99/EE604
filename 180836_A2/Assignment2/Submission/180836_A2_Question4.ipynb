{
  "nbformat": 4,
  "nbformat_minor": 0,
  "metadata": {
    "colab": {
      "name": "180836_A2_Question4",
      "provenance": [],
      "collapsed_sections": []
    },
    "kernelspec": {
      "name": "python3",
      "display_name": "Python 3"
    },
    "language_info": {
      "name": "python"
    }
  },
  "cells": [
    {
      "cell_type": "code",
      "metadata": {
        "id": "m4oOZhcnWPTU"
      },
      "source": [
        "# Copyright 2021 IITK EE604A Image Processing. All Rights Reserved.\n",
        "# \n",
        "# Licensed under the MIT License. Use and/or modification of this code outside of EE604 must reference:\n",
        "#\n",
        "# © IITK EE604A Image Processing \n",
        "#\n",
        "# Author: Dheeraj Bharti, Chiranjeev Prachand and Prof Tushar Sandhan, Department of Electrical Engineering, IIT Kanpur"
      ],
      "execution_count": null,
      "outputs": []
    },
    {
      "cell_type": "code",
      "metadata": {
        "id": "7U2RhKVRQHra"
      },
      "source": [
        "import argparse\n",
        "import cv2\n",
        "import numpy as np\n",
        "import math\n",
        "import matplotlib.pyplot as plt\n",
        "from collections import defaultdict\n",
        "from google.colab.patches import cv2_imshow"
      ],
      "execution_count": null,
      "outputs": []
    },
    {
      "cell_type": "markdown",
      "metadata": {
        "id": "cMsEKs0pWVwW"
      },
      "source": [
        "Upload 'pic2.png' file manually to your google colab working directory:\n",
        "\n",
        "1. Click on the folder drawing button on the left below the <> sign.\n",
        "2. Click on Upload to session storage button to upload the image."
      ]
    },
    {
      "cell_type": "code",
      "metadata": {
        "id": "yA1DHkKrQOyP"
      },
      "source": [
        "## In this function, after getting the edge image, circle detection will be carried out.\n",
        "\n",
        "def find_hough_circles(image, edge_image, r_min, r_max, delta_r, num_thetas, bin_threshold, post_process = True):\n",
        "\n",
        "  '''\n",
        "  Input:\n",
        "\n",
        "  image - Input 2-D RGB image\n",
        "\n",
        "  edge_image - Canny algorithm output of image variable\n",
        "\n",
        "  r_min - Min radius circle to detect. Default is 10.\n",
        "\n",
        "  r_max - Max radius circle to detect. Default is 200.\n",
        "\n",
        "  delta_r - Delta change in radius from r_min to r_max. Default is 1.\n",
        "\n",
        "  num_thetas - Number of steps for theta from 0 to 2PI. Default is 100.\n",
        "\n",
        "  bin_threshold - Thresholding value in percentage to shortlist candidate for circle. Default is 0.4 i.e. 40%.\n",
        "\n",
        "  Output:\n",
        "\n",
        "  output_image\n",
        "\n",
        "  out_circles\n",
        "\n",
        "  '''\n",
        "\n",
        "\n",
        "  img_height, img_width = edge_image.shape[:2]\n",
        "  \n",
        "  # R and Theta ranges\n",
        "  dtheta = int(360 / num_thetas)\n",
        "  \n",
        "  #######################################################################\n",
        "   # Write code according to the instruction written infront of the line.\n",
        "  #######################################################################\n",
        "\n",
        "  thetas = np.arange(0.0, 360.0, dtheta)    ## Use np.arange; divide 0 to 360 in dtheta steps; name it thetas ## \n",
        "  rs = np.arange(r_min, r_max, delta_r)    ## Use np.arange; divide radius from r_min to r_max in delta_r steps; name it rs ##\n",
        "\n",
        "  # Cos and Sin of theta values required later\n",
        "  cos_thetas = np.cos(np.deg2rad(thetas))\n",
        "  sin_thetas = np.sin(np.deg2rad(thetas))\n",
        "  \n",
        "  \n",
        "  circle_candidates = []\n",
        "  \n",
        "  for r in rs:\n",
        "    for t in range(num_thetas):\n",
        "      circle_candidates.append((r, int(r * cos_thetas[t]), int(r * sin_thetas[t])))\n",
        "   \n",
        "  accumulator = defaultdict(int)\n",
        "\n",
        "  #######################################################################\n",
        "   # Write code according to the instruction written infront of the line.\n",
        "  #######################################################################\n",
        "\n",
        "  # Can be made faster by considering only white pixels in the first place\n",
        "  tot_votes = 0\n",
        "  for i in range(img_height):                    ##  Using nested for loops, for every point (x,y) in edge_image, \n",
        "    for j in range(img_width):\n",
        "      if edge_image[i, j] == 255:                         #  1. for every white pixel,\n",
        "        for cand in circle_candidates:                    #  2. iterate through all three variables of circle_candidates namely r,rcos_t and rsin_t together\n",
        "          x_center = j - cand[1]                          #     and calculate x_center = x - rcos_t and y_center = y - rsin_t \n",
        "          y_center = i - cand[2]\n",
        "          accumulator[(x_center, y_center, cand[0])] += 1 #  3. and, increment the accumulator using accumulator[(x_center, y_center, r)] += 1\n",
        "          tot_votes += 1\n",
        "\n",
        "  output_img = image.copy()\n",
        "  out_circles = []\n",
        "  \n",
        "  \n",
        "  \n",
        "  #######################################################################\n",
        "   # Write code according to the instruction written infront of the line.\n",
        "  #######################################################################\n",
        "\n",
        "  accumulator = dict(sorted(accumulator.items(), reverse = True, key=lambda item: item[1]))   ## Sort the accumulator votes, remember it is a dictionary; thus, sort by value (i.e. votes)\n",
        "  thresh = tot_votes * bin_threshold                                              # Aim is to only keep that candidate_circle value whose vote percentage is above the bin_threshold value\n",
        "  for k in accumulator:                                                           # so as to minimize the number of candidate circles\n",
        "    if k[0] > 0 and k[1] > 0:                                                     \n",
        "      if accumulator[k] > thresh:                                                 # After that, store that centre coordinate and radius tuple i.e. (xo,yo,r) along with its vote percentage\n",
        "        out_circles.append((k[0], k[1], k[2], accumulator[k]/tot_votes*100))      # together using variable out_circles ; Hint: Use out_circles.append((xo, yo, r, vote_percentage))\n",
        "        print(k[0], k[1], k[2], accumulator[k]/tot_votes*100)                     # Also, print (xo,yo,r,vote_percentage)\n",
        "      else:\n",
        "        break\n",
        "  \n",
        "  # This step further narrows down our candidates by eliminating very nearby circles \n",
        "  # and only keeps circles which are far from each other by a pixel_threshold\n",
        "  if post_process :\n",
        "    pixel_threshold = 5\n",
        "    postprocess_circles = []\n",
        "    for x, y, r, v in out_circles:\n",
        "      if all(abs(x - xc) > pixel_threshold or abs(y - yc) > pixel_threshold or abs(r - rc) > pixel_threshold for xc, yc, rc, v in postprocess_circles):\n",
        "        postprocess_circles.append((x, y, r, v))\n",
        "    out_circles = postprocess_circles\n",
        "  \n",
        "  for x, y, r, v in out_circles:\n",
        "    output_img = cv2.circle(output_img, (x,y), r, (123,15,125), 2)\n",
        "  \n",
        "  return output_img, out_circles\n"
      ],
      "execution_count": null,
      "outputs": []
    },
    {
      "cell_type": "markdown",
      "metadata": {
        "id": "4kX-WpInBP7l"
      },
      "source": [
        "Click on Runtime and select Run all before submitting this file."
      ]
    },
    {
      "cell_type": "code",
      "metadata": {
        "id": "e-UXl5ArQQxU",
        "colab": {
          "base_uri": "https://localhost:8080/",
          "height": 869
        },
        "outputId": "739d3ff0-49fa-4127-839e-69a19dee48bf"
      },
      "source": [
        "###################################################################\n",
        "## Try to vary these values and observe the change in output   ###\n",
        "## The best values may or may not be the given values          ####\n",
        "r_min = 10\n",
        "r_max = 200\n",
        "delta_r = 1\n",
        "num_thetas = 100\n",
        "bin_threshold = 1e-6\n",
        "min_edge_threshold = 100\n",
        "max_edge_threshold = 200\n",
        "###################################################################\n",
        "\n",
        "input_img = cv2.imread('pic2.png')\n",
        "edge_image = cv2.cvtColor(input_img, cv2.COLOR_BGR2GRAY)\n",
        "edge_image = cv2.Canny(edge_image, min_edge_threshold, max_edge_threshold)\n",
        "cv2_imshow(edge_image)\n",
        "cv2.waitKey(0)\n",
        "\n",
        "if edge_image is not None:\n",
        "    \n",
        "    print (\"Detecting Hough Circles Started!\")\n",
        "    circle_img, circles = find_hough_circles(input_img, edge_image, r_min, r_max, delta_r, num_thetas, bin_threshold)\n",
        "    cv2_imshow( circle_img)\n",
        "    cv2.waitKey(0)\n",
        "    \n",
        "    \n",
        "else:\n",
        "    print (\"Error in input image!\")\n",
        "        \n",
        "print (\"Detecting Hough Circles Complete!\")\n"
      ],
      "execution_count": null,
      "outputs": [
        {
          "output_type": "display_data",
          "data": {
            "image/png": "[encoded data removed]",
            "text/plain": [
              "<PIL.Image.Image image mode=L size=384x384 at 0x7F92AB497190>"
            ]
          },
          "metadata": {}
        },
        {
          "output_type": "stream",
          "name": "stdout",
          "text": [
            "Detecting Hough Circles Started!\n",
            "139 150 80 0.00010981859594891402\n",
            "242 145 80 0.00010778491824615634\n",
            "195 238 80 0.00010575124054339869\n"
          ]
        },
        {
          "output_type": "display_data",
          "data": {
            "image/png": "[encoded data removed]",
            "text/plain": [
              "<PIL.Image.Image image mode=RGB size=384x384 at 0x7F92AB403850>"
            ]
          },
          "metadata": {}
        },
        {
          "output_type": "stream",
          "name": "stdout",
          "text": [
            "Detecting Hough Circles Complete!\n"
          ]
        }
      ]
    }
  ]
}